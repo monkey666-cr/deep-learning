{
 "cells": [
  {
   "cell_type": "markdown",
   "metadata": {
    "collapsed": true,
    "pycharm": {
     "name": "#%% md\n"
    }
   },
   "source": [
    "# 异常值和缺失值的处理&自动特征构建"
   ]
  },
  {
   "cell_type": "markdown",
   "source": [
    "## 异常值和缺失值的处理\n",
    "\n",
    "- 异常值和缺失值的定义常常是难以确定的\n",
    "- 异常值的检验是可靠的方法:\n",
    "- EDA加上业务逻辑\n",
    "- 可以根据分位数或其他方法（其他方法未必靠谱）\n",
    "- 如果异常值是由于输入失误造成的，则可以将之作为缺失值处理\n",
    "- 缺失值的填充往往可以根据业务决定，其他可以采用平均值、中位数或众数进行填充；也可以单独构建模型进行预测\n"
   ],
   "metadata": {
    "collapsed": false,
    "pycharm": {
     "name": "#%% md\n"
    }
   }
  },
  {
   "cell_type": "markdown",
   "source": [
    "## 自动特征构建\n",
    "\n",
    "- 自动特征挖掘\n",
    "- 遗传算法介绍\n",
    "- Symbolic Learning简介\n",
    "- AutoCross简介"
   ],
   "metadata": {
    "collapsed": false,
    "pycharm": {
     "name": "#%% md\n"
    }
   }
  },
  {
   "cell_type": "code",
   "execution_count": null,
   "outputs": [],
   "source": [],
   "metadata": {
    "collapsed": false,
    "pycharm": {
     "name": "#%%\n"
    }
   }
  }
 ],
 "metadata": {
  "kernelspec": {
   "display_name": "Python 3",
   "language": "python",
   "name": "python3"
  },
  "language_info": {
   "codemirror_mode": {
    "name": "ipython",
    "version": 2
   },
   "file_extension": ".py",
   "mimetype": "text/x-python",
   "name": "python",
   "nbconvert_exporter": "python",
   "pygments_lexer": "ipython2",
   "version": "2.7.6"
  }
 },
 "nbformat": 4,
 "nbformat_minor": 0
}