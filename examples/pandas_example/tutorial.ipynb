{
 "cells": [
  {
   "cell_type": "markdown",
   "metadata": {
    "collapsed": true,
    "pycharm": {
     "name": "#%% md\n"
    }
   },
   "source": [
    "# Pandas Fundamentals\n",
    "\n",
    "## Overview\n",
    "\n",
    "- 1, Read and write CSV dataset\n",
    "- 2, Basic data manipulation\n",
    "- 3, Apply and Groupby function\n",
    "- 4, Joins"
   ]
  },
  {
   "cell_type": "markdown",
   "source": [
    "## Data\n",
    "\n",
    "The data can be downloaded [here](#https://www.stats.govt.nz/assets/Uploads/New-Zealand-business-demography-statistics/New-Zealand-business-demography-statistics-At-February-2019/Download-data/geographic-units-by-industry-and-statistical-area-2000-19-descending-order.zip)"
   ],
   "metadata": {
    "collapsed": false,
    "pycharm": {
     "name": "#%% md\n"
    }
   }
  },
  {
   "cell_type": "markdown",
   "source": [
    "## Read and Write"
   ],
   "metadata": {
    "collapsed": false,
    "pycharm": {
     "name": "#%% md\n"
    }
   }
  },
  {
   "cell_type": "code",
   "execution_count": 11,
   "outputs": [],
   "source": [
    "import pandas as pd\n",
    "\n",
    "in_file = \"./Data7602DescendingYearOrder.csv\"\n",
    "data = pd.read_csv(in_file, engine=\"python\")"
   ],
   "metadata": {
    "collapsed": false,
    "pycharm": {
     "name": "#%%\n"
    }
   }
  },
  {
   "cell_type": "code",
   "execution_count": 12,
   "outputs": [
    {
     "data": {
      "text/plain": "  anzsic06     Area  year  geo_count  ec_count\n0        A  A100100  2000         96       130\n1        A  A100200  2000        198       110\n2        A  A100300  2000         42        25\n3        A  A100400  2000         66        40\n4        A  A100500  2000         63        40",
      "text/html": "<div>\n<style scoped>\n    .dataframe tbody tr th:only-of-type {\n        vertical-align: middle;\n    }\n\n    .dataframe tbody tr th {\n        vertical-align: top;\n    }\n\n    .dataframe thead th {\n        text-align: right;\n    }\n</style>\n<table border=\"1\" class=\"dataframe\">\n  <thead>\n    <tr style=\"text-align: right;\">\n      <th></th>\n      <th>anzsic06</th>\n      <th>Area</th>\n      <th>year</th>\n      <th>geo_count</th>\n      <th>ec_count</th>\n    </tr>\n  </thead>\n  <tbody>\n    <tr>\n      <th>0</th>\n      <td>A</td>\n      <td>A100100</td>\n      <td>2000</td>\n      <td>96</td>\n      <td>130</td>\n    </tr>\n    <tr>\n      <th>1</th>\n      <td>A</td>\n      <td>A100200</td>\n      <td>2000</td>\n      <td>198</td>\n      <td>110</td>\n    </tr>\n    <tr>\n      <th>2</th>\n      <td>A</td>\n      <td>A100300</td>\n      <td>2000</td>\n      <td>42</td>\n      <td>25</td>\n    </tr>\n    <tr>\n      <th>3</th>\n      <td>A</td>\n      <td>A100400</td>\n      <td>2000</td>\n      <td>66</td>\n      <td>40</td>\n    </tr>\n    <tr>\n      <th>4</th>\n      <td>A</td>\n      <td>A100500</td>\n      <td>2000</td>\n      <td>63</td>\n      <td>40</td>\n    </tr>\n  </tbody>\n</table>\n</div>"
     },
     "execution_count": 12,
     "metadata": {},
     "output_type": "execute_result"
    }
   ],
   "source": [
    "data.head()"
   ],
   "metadata": {
    "collapsed": false,
    "pycharm": {
     "name": "#%%\n"
    }
   }
  },
  {
   "cell_type": "code",
   "execution_count": 13,
   "outputs": [
    {
     "data": {
      "text/plain": "(5155186, 5)"
     },
     "execution_count": 13,
     "metadata": {},
     "output_type": "execute_result"
    }
   ],
   "source": [
    "data.shape"
   ],
   "metadata": {
    "collapsed": false,
    "pycharm": {
     "name": "#%%\n"
    }
   }
  },
  {
   "cell_type": "code",
   "execution_count": 14,
   "outputs": [
    {
     "data": {
      "text/plain": "array(['anzsic06', 'Area', 'year', 'geo_count', 'ec_count'], dtype=object)"
     },
     "execution_count": 14,
     "metadata": {},
     "output_type": "execute_result"
    }
   ],
   "source": [
    "data.columns.values"
   ],
   "metadata": {
    "collapsed": false,
    "pycharm": {
     "name": "#%%\n"
    }
   }
  },
  {
   "cell_type": "code",
   "execution_count": 15,
   "outputs": [],
   "source": [
    "data.to_csv(\"out_file.csv\", index=False, encoding=\"utf-8\", sep=\"\\t\")"
   ],
   "metadata": {
    "collapsed": false,
    "pycharm": {
     "name": "#%%\n"
    }
   }
  },
  {
   "cell_type": "markdown",
   "source": [
    "## Basic Manipulation"
   ],
   "metadata": {
    "collapsed": false,
    "pycharm": {
     "name": "#%% md\n"
    }
   }
  },
  {
   "cell_type": "code",
   "execution_count": 16,
   "outputs": [],
   "source": [
    "year = data[\"year\"]"
   ],
   "metadata": {
    "collapsed": false,
    "pycharm": {
     "name": "#%%\n"
    }
   }
  },
  {
   "cell_type": "code",
   "execution_count": 17,
   "outputs": [],
   "source": [
    "geo_count = data[\"geo_count\"]\n",
    "geo_count_copy = geo_count.copy(deep=True)"
   ],
   "metadata": {
    "collapsed": false,
    "pycharm": {
     "name": "#%%\n"
    }
   }
  },
  {
   "cell_type": "code",
   "execution_count": 18,
   "outputs": [],
   "source": [
    "geo_count_copy[geo_count > 90] = 90"
   ],
   "metadata": {
    "collapsed": false,
    "pycharm": {
     "name": "#%%\n"
    }
   }
  },
  {
   "cell_type": "code",
   "execution_count": 19,
   "outputs": [
    {
     "data": {
      "text/plain": "  anzsic06     Area  year  geo_count  ec_count\n0        A  A100100  2000         96       130\n1        A  A100200  2000        198       110\n2        A  A100300  2000         42        25\n3        A  A100400  2000         66        40\n4        A  A100500  2000         63        40",
      "text/html": "<div>\n<style scoped>\n    .dataframe tbody tr th:only-of-type {\n        vertical-align: middle;\n    }\n\n    .dataframe tbody tr th {\n        vertical-align: top;\n    }\n\n    .dataframe thead th {\n        text-align: right;\n    }\n</style>\n<table border=\"1\" class=\"dataframe\">\n  <thead>\n    <tr style=\"text-align: right;\">\n      <th></th>\n      <th>anzsic06</th>\n      <th>Area</th>\n      <th>year</th>\n      <th>geo_count</th>\n      <th>ec_count</th>\n    </tr>\n  </thead>\n  <tbody>\n    <tr>\n      <th>0</th>\n      <td>A</td>\n      <td>A100100</td>\n      <td>2000</td>\n      <td>96</td>\n      <td>130</td>\n    </tr>\n    <tr>\n      <th>1</th>\n      <td>A</td>\n      <td>A100200</td>\n      <td>2000</td>\n      <td>198</td>\n      <td>110</td>\n    </tr>\n    <tr>\n      <th>2</th>\n      <td>A</td>\n      <td>A100300</td>\n      <td>2000</td>\n      <td>42</td>\n      <td>25</td>\n    </tr>\n    <tr>\n      <th>3</th>\n      <td>A</td>\n      <td>A100400</td>\n      <td>2000</td>\n      <td>66</td>\n      <td>40</td>\n    </tr>\n    <tr>\n      <th>4</th>\n      <td>A</td>\n      <td>A100500</td>\n      <td>2000</td>\n      <td>63</td>\n      <td>40</td>\n    </tr>\n  </tbody>\n</table>\n</div>"
     },
     "execution_count": 19,
     "metadata": {},
     "output_type": "execute_result"
    }
   ],
   "source": [
    "data.head()"
   ],
   "metadata": {
    "collapsed": false,
    "pycharm": {
     "name": "#%%\n"
    }
   }
  },
  {
   "cell_type": "code",
   "execution_count": 20,
   "outputs": [],
   "source": [
    "def myfunc(x):\n",
    "    if x > 90:\n",
    "        return 90\n",
    "    else:\n",
    "        return x"
   ],
   "metadata": {
    "collapsed": false,
    "pycharm": {
     "name": "#%%\n"
    }
   }
  },
  {
   "cell_type": "code",
   "execution_count": 21,
   "outputs": [],
   "source": [
    "data[\"ec_count\"] = data[\"ec_count\"].apply(myfunc)"
   ],
   "metadata": {
    "collapsed": false,
    "pycharm": {
     "name": "#%%\n"
    }
   }
  },
  {
   "cell_type": "code",
   "execution_count": 22,
   "outputs": [
    {
     "data": {
      "text/plain": "  anzsic06     Area  year  geo_count  ec_count\n0        A  A100100  2000         96        90\n1        A  A100200  2000        198        90\n2        A  A100300  2000         42        25\n3        A  A100400  2000         66        40\n4        A  A100500  2000         63        40",
      "text/html": "<div>\n<style scoped>\n    .dataframe tbody tr th:only-of-type {\n        vertical-align: middle;\n    }\n\n    .dataframe tbody tr th {\n        vertical-align: top;\n    }\n\n    .dataframe thead th {\n        text-align: right;\n    }\n</style>\n<table border=\"1\" class=\"dataframe\">\n  <thead>\n    <tr style=\"text-align: right;\">\n      <th></th>\n      <th>anzsic06</th>\n      <th>Area</th>\n      <th>year</th>\n      <th>geo_count</th>\n      <th>ec_count</th>\n    </tr>\n  </thead>\n  <tbody>\n    <tr>\n      <th>0</th>\n      <td>A</td>\n      <td>A100100</td>\n      <td>2000</td>\n      <td>96</td>\n      <td>90</td>\n    </tr>\n    <tr>\n      <th>1</th>\n      <td>A</td>\n      <td>A100200</td>\n      <td>2000</td>\n      <td>198</td>\n      <td>90</td>\n    </tr>\n    <tr>\n      <th>2</th>\n      <td>A</td>\n      <td>A100300</td>\n      <td>2000</td>\n      <td>42</td>\n      <td>25</td>\n    </tr>\n    <tr>\n      <th>3</th>\n      <td>A</td>\n      <td>A100400</td>\n      <td>2000</td>\n      <td>66</td>\n      <td>40</td>\n    </tr>\n    <tr>\n      <th>4</th>\n      <td>A</td>\n      <td>A100500</td>\n      <td>2000</td>\n      <td>63</td>\n      <td>40</td>\n    </tr>\n  </tbody>\n</table>\n</div>"
     },
     "execution_count": 22,
     "metadata": {},
     "output_type": "execute_result"
    }
   ],
   "source": [
    "data.head()"
   ],
   "metadata": {
    "collapsed": false,
    "pycharm": {
     "name": "#%%\n"
    }
   }
  },
  {
   "cell_type": "code",
   "execution_count": 23,
   "outputs": [],
   "source": [
    "data[\"ec_count\"] = data[\"ec_count\"].apply(lambda x: 85 if x > 85 else x)"
   ],
   "metadata": {
    "collapsed": false,
    "pycharm": {
     "name": "#%%\n"
    }
   }
  },
  {
   "cell_type": "code",
   "execution_count": 24,
   "outputs": [
    {
     "data": {
      "text/plain": "  anzsic06     Area  year  geo_count  ec_count\n0        A  A100100  2000         96        85\n1        A  A100200  2000        198        85\n2        A  A100300  2000         42        25\n3        A  A100400  2000         66        40\n4        A  A100500  2000         63        40",
      "text/html": "<div>\n<style scoped>\n    .dataframe tbody tr th:only-of-type {\n        vertical-align: middle;\n    }\n\n    .dataframe tbody tr th {\n        vertical-align: top;\n    }\n\n    .dataframe thead th {\n        text-align: right;\n    }\n</style>\n<table border=\"1\" class=\"dataframe\">\n  <thead>\n    <tr style=\"text-align: right;\">\n      <th></th>\n      <th>anzsic06</th>\n      <th>Area</th>\n      <th>year</th>\n      <th>geo_count</th>\n      <th>ec_count</th>\n    </tr>\n  </thead>\n  <tbody>\n    <tr>\n      <th>0</th>\n      <td>A</td>\n      <td>A100100</td>\n      <td>2000</td>\n      <td>96</td>\n      <td>85</td>\n    </tr>\n    <tr>\n      <th>1</th>\n      <td>A</td>\n      <td>A100200</td>\n      <td>2000</td>\n      <td>198</td>\n      <td>85</td>\n    </tr>\n    <tr>\n      <th>2</th>\n      <td>A</td>\n      <td>A100300</td>\n      <td>2000</td>\n      <td>42</td>\n      <td>25</td>\n    </tr>\n    <tr>\n      <th>3</th>\n      <td>A</td>\n      <td>A100400</td>\n      <td>2000</td>\n      <td>66</td>\n      <td>40</td>\n    </tr>\n    <tr>\n      <th>4</th>\n      <td>A</td>\n      <td>A100500</td>\n      <td>2000</td>\n      <td>63</td>\n      <td>40</td>\n    </tr>\n  </tbody>\n</table>\n</div>"
     },
     "execution_count": 24,
     "metadata": {},
     "output_type": "execute_result"
    }
   ],
   "source": [
    "data.head()"
   ],
   "metadata": {
    "collapsed": false,
    "pycharm": {
     "name": "#%%\n"
    }
   }
  },
  {
   "cell_type": "code",
   "execution_count": 25,
   "outputs": [],
   "source": [
    "groupby = data.groupby(\"anzsic06\").agg({\"geo_count\": [\"mean\"]})"
   ],
   "metadata": {
    "collapsed": false,
    "pycharm": {
     "name": "#%%\n"
    }
   }
  },
  {
   "cell_type": "code",
   "execution_count": 27,
   "outputs": [],
   "source": [
    "groupby.columns = groupby.columns.droplevel(0)"
   ],
   "metadata": {
    "collapsed": false,
    "pycharm": {
     "name": "#%%\n"
    }
   }
  },
  {
   "cell_type": "code",
   "execution_count": 30,
   "outputs": [],
   "source": [
    "groupby.rename(columns={groupby.columns[0]: \"anzsic06_mean\"}, inplace=True)"
   ],
   "metadata": {
    "collapsed": false,
    "pycharm": {
     "name": "#%%\n"
    }
   }
  },
  {
   "cell_type": "code",
   "execution_count": 31,
   "outputs": [
    {
     "data": {
      "text/plain": "          anzsic06_mean\nanzsic06               \nA            196.301884\nA01          183.521642\nA011          12.251173\nA012          14.130619\nA013          41.096657",
      "text/html": "<div>\n<style scoped>\n    .dataframe tbody tr th:only-of-type {\n        vertical-align: middle;\n    }\n\n    .dataframe tbody tr th {\n        vertical-align: top;\n    }\n\n    .dataframe thead th {\n        text-align: right;\n    }\n</style>\n<table border=\"1\" class=\"dataframe\">\n  <thead>\n    <tr style=\"text-align: right;\">\n      <th></th>\n      <th>anzsic06_mean</th>\n    </tr>\n    <tr>\n      <th>anzsic06</th>\n      <th></th>\n    </tr>\n  </thead>\n  <tbody>\n    <tr>\n      <th>A</th>\n      <td>196.301884</td>\n    </tr>\n    <tr>\n      <th>A01</th>\n      <td>183.521642</td>\n    </tr>\n    <tr>\n      <th>A011</th>\n      <td>12.251173</td>\n    </tr>\n    <tr>\n      <th>A012</th>\n      <td>14.130619</td>\n    </tr>\n    <tr>\n      <th>A013</th>\n      <td>41.096657</td>\n    </tr>\n  </tbody>\n</table>\n</div>"
     },
     "execution_count": 31,
     "metadata": {},
     "output_type": "execute_result"
    }
   ],
   "source": [
    "groupby.head()"
   ],
   "metadata": {
    "collapsed": false,
    "pycharm": {
     "name": "#%%\n"
    }
   }
  },
  {
   "cell_type": "code",
   "execution_count": 32,
   "outputs": [],
   "source": [
    "data = pd.merge(data, groupby, how=\"left\", on=\"anzsic06\")"
   ],
   "metadata": {
    "collapsed": false,
    "pycharm": {
     "name": "#%%\n"
    }
   }
  },
  {
   "cell_type": "code",
   "execution_count": 33,
   "outputs": [
    {
     "data": {
      "text/plain": "  anzsic06     Area  year  geo_count  ec_count  anzsic06_mean\n0        A  A100100  2000         96        85     196.301884\n1        A  A100200  2000        198        85     196.301884\n2        A  A100300  2000         42        25     196.301884\n3        A  A100400  2000         66        40     196.301884\n4        A  A100500  2000         63        40     196.301884",
      "text/html": "<div>\n<style scoped>\n    .dataframe tbody tr th:only-of-type {\n        vertical-align: middle;\n    }\n\n    .dataframe tbody tr th {\n        vertical-align: top;\n    }\n\n    .dataframe thead th {\n        text-align: right;\n    }\n</style>\n<table border=\"1\" class=\"dataframe\">\n  <thead>\n    <tr style=\"text-align: right;\">\n      <th></th>\n      <th>anzsic06</th>\n      <th>Area</th>\n      <th>year</th>\n      <th>geo_count</th>\n      <th>ec_count</th>\n      <th>anzsic06_mean</th>\n    </tr>\n  </thead>\n  <tbody>\n    <tr>\n      <th>0</th>\n      <td>A</td>\n      <td>A100100</td>\n      <td>2000</td>\n      <td>96</td>\n      <td>85</td>\n      <td>196.301884</td>\n    </tr>\n    <tr>\n      <th>1</th>\n      <td>A</td>\n      <td>A100200</td>\n      <td>2000</td>\n      <td>198</td>\n      <td>85</td>\n      <td>196.301884</td>\n    </tr>\n    <tr>\n      <th>2</th>\n      <td>A</td>\n      <td>A100300</td>\n      <td>2000</td>\n      <td>42</td>\n      <td>25</td>\n      <td>196.301884</td>\n    </tr>\n    <tr>\n      <th>3</th>\n      <td>A</td>\n      <td>A100400</td>\n      <td>2000</td>\n      <td>66</td>\n      <td>40</td>\n      <td>196.301884</td>\n    </tr>\n    <tr>\n      <th>4</th>\n      <td>A</td>\n      <td>A100500</td>\n      <td>2000</td>\n      <td>63</td>\n      <td>40</td>\n      <td>196.301884</td>\n    </tr>\n  </tbody>\n</table>\n</div>"
     },
     "execution_count": 33,
     "metadata": {},
     "output_type": "execute_result"
    }
   ],
   "source": [
    "data.head()"
   ],
   "metadata": {
    "collapsed": false,
    "pycharm": {
     "name": "#%%\n"
    }
   }
  },
  {
   "cell_type": "code",
   "execution_count": 35,
   "outputs": [
    {
     "data": {
      "text/plain": "  anzsic06     Area  year  geo_count  ec_count  anzsic06_mean\n0        A  A100100  2000         96        85     196.301884\n1        A  A100200  2000        198        85     196.301884\n2        A  A100300  2000         42        25     196.301884\n3        A  A100400  2000         66        40     196.301884\n4        A  A100500  2000         63        40     196.301884",
      "text/html": "<div>\n<style scoped>\n    .dataframe tbody tr th:only-of-type {\n        vertical-align: middle;\n    }\n\n    .dataframe tbody tr th {\n        vertical-align: top;\n    }\n\n    .dataframe thead th {\n        text-align: right;\n    }\n</style>\n<table border=\"1\" class=\"dataframe\">\n  <thead>\n    <tr style=\"text-align: right;\">\n      <th></th>\n      <th>anzsic06</th>\n      <th>Area</th>\n      <th>year</th>\n      <th>geo_count</th>\n      <th>ec_count</th>\n      <th>anzsic06_mean</th>\n    </tr>\n  </thead>\n  <tbody>\n    <tr>\n      <th>0</th>\n      <td>A</td>\n      <td>A100100</td>\n      <td>2000</td>\n      <td>96</td>\n      <td>85</td>\n      <td>196.301884</td>\n    </tr>\n    <tr>\n      <th>1</th>\n      <td>A</td>\n      <td>A100200</td>\n      <td>2000</td>\n      <td>198</td>\n      <td>85</td>\n      <td>196.301884</td>\n    </tr>\n    <tr>\n      <th>2</th>\n      <td>A</td>\n      <td>A100300</td>\n      <td>2000</td>\n      <td>42</td>\n      <td>25</td>\n      <td>196.301884</td>\n    </tr>\n    <tr>\n      <th>3</th>\n      <td>A</td>\n      <td>A100400</td>\n      <td>2000</td>\n      <td>66</td>\n      <td>40</td>\n      <td>196.301884</td>\n    </tr>\n    <tr>\n      <th>4</th>\n      <td>A</td>\n      <td>A100500</td>\n      <td>2000</td>\n      <td>63</td>\n      <td>40</td>\n      <td>196.301884</td>\n    </tr>\n  </tbody>\n</table>\n</div>"
     },
     "execution_count": 35,
     "metadata": {},
     "output_type": "execute_result"
    }
   ],
   "source": [
    "data[data[\"anzsic06\"] == \"A\"].head()"
   ],
   "metadata": {
    "collapsed": false,
    "pycharm": {
     "name": "#%%\n"
    }
   }
  },
  {
   "cell_type": "code",
   "execution_count": 36,
   "outputs": [],
   "source": [
    "data_part_1 = data.iloc[0:1000]\n",
    "data_part_2 = data.iloc[1000:]"
   ],
   "metadata": {
    "collapsed": false,
    "pycharm": {
     "name": "#%%\n"
    }
   }
  },
  {
   "cell_type": "code",
   "execution_count": 37,
   "outputs": [
    {
     "name": "stderr",
     "output_type": "stream",
     "text": [
      "C:\\Users\\theRun\\AppData\\Local\\Temp\\ipykernel_17452\\3627146262.py:1: FutureWarning: The frame.append method is deprecated and will be removed from pandas in a future version. Use pandas.concat instead.\n",
      "  data_stacked = data_part_1.append(data_part_2, ignore_index=True)\n"
     ]
    }
   ],
   "source": [
    "data_stacked = data_part_1.append(data_part_2, ignore_index=True)"
   ],
   "metadata": {
    "collapsed": false,
    "pycharm": {
     "name": "#%%\n"
    }
   }
  },
  {
   "cell_type": "code",
   "execution_count": 38,
   "outputs": [
    {
     "data": {
      "text/plain": "(5155186, 6)"
     },
     "execution_count": 38,
     "metadata": {},
     "output_type": "execute_result"
    }
   ],
   "source": [
    "data_stacked.shape"
   ],
   "metadata": {
    "collapsed": false,
    "pycharm": {
     "name": "#%%\n"
    }
   }
  },
  {
   "cell_type": "code",
   "execution_count": 39,
   "outputs": [
    {
     "data": {
      "text/plain": "  anzsic06     Area  year  geo_count  ec_count  anzsic06_mean\n0        A  A100100  2000         96        85     196.301884\n1        A  A100200  2000        198        85     196.301884\n2        A  A100300  2000         42        25     196.301884\n3        A  A100400  2000         66        40     196.301884\n4        A  A100500  2000         63        40     196.301884",
      "text/html": "<div>\n<style scoped>\n    .dataframe tbody tr th:only-of-type {\n        vertical-align: middle;\n    }\n\n    .dataframe tbody tr th {\n        vertical-align: top;\n    }\n\n    .dataframe thead th {\n        text-align: right;\n    }\n</style>\n<table border=\"1\" class=\"dataframe\">\n  <thead>\n    <tr style=\"text-align: right;\">\n      <th></th>\n      <th>anzsic06</th>\n      <th>Area</th>\n      <th>year</th>\n      <th>geo_count</th>\n      <th>ec_count</th>\n      <th>anzsic06_mean</th>\n    </tr>\n  </thead>\n  <tbody>\n    <tr>\n      <th>0</th>\n      <td>A</td>\n      <td>A100100</td>\n      <td>2000</td>\n      <td>96</td>\n      <td>85</td>\n      <td>196.301884</td>\n    </tr>\n    <tr>\n      <th>1</th>\n      <td>A</td>\n      <td>A100200</td>\n      <td>2000</td>\n      <td>198</td>\n      <td>85</td>\n      <td>196.301884</td>\n    </tr>\n    <tr>\n      <th>2</th>\n      <td>A</td>\n      <td>A100300</td>\n      <td>2000</td>\n      <td>42</td>\n      <td>25</td>\n      <td>196.301884</td>\n    </tr>\n    <tr>\n      <th>3</th>\n      <td>A</td>\n      <td>A100400</td>\n      <td>2000</td>\n      <td>66</td>\n      <td>40</td>\n      <td>196.301884</td>\n    </tr>\n    <tr>\n      <th>4</th>\n      <td>A</td>\n      <td>A100500</td>\n      <td>2000</td>\n      <td>63</td>\n      <td>40</td>\n      <td>196.301884</td>\n    </tr>\n  </tbody>\n</table>\n</div>"
     },
     "execution_count": 39,
     "metadata": {},
     "output_type": "execute_result"
    }
   ],
   "source": [
    "data_stacked.head()"
   ],
   "metadata": {
    "collapsed": false,
    "pycharm": {
     "name": "#%%\n"
    }
   }
  },
  {
   "cell_type": "code",
   "execution_count": 40,
   "outputs": [],
   "source": [
    "data_new_col = data[\"ec_count\"]"
   ],
   "metadata": {
    "collapsed": false,
    "pycharm": {
     "name": "#%%\n"
    }
   }
  },
  {
   "cell_type": "code",
   "execution_count": 41,
   "outputs": [],
   "source": [
    "data_concat = pd.concat([data, data_new_col], axis=1)"
   ],
   "metadata": {
    "collapsed": false,
    "pycharm": {
     "name": "#%%\n"
    }
   }
  },
  {
   "cell_type": "code",
   "execution_count": 42,
   "outputs": [
    {
     "data": {
      "text/plain": "  anzsic06     Area  year  geo_count  ec_count  anzsic06_mean  ec_count\n0        A  A100100  2000         96        85     196.301884        85\n1        A  A100200  2000        198        85     196.301884        85\n2        A  A100300  2000         42        25     196.301884        25\n3        A  A100400  2000         66        40     196.301884        40\n4        A  A100500  2000         63        40     196.301884        40",
      "text/html": "<div>\n<style scoped>\n    .dataframe tbody tr th:only-of-type {\n        vertical-align: middle;\n    }\n\n    .dataframe tbody tr th {\n        vertical-align: top;\n    }\n\n    .dataframe thead th {\n        text-align: right;\n    }\n</style>\n<table border=\"1\" class=\"dataframe\">\n  <thead>\n    <tr style=\"text-align: right;\">\n      <th></th>\n      <th>anzsic06</th>\n      <th>Area</th>\n      <th>year</th>\n      <th>geo_count</th>\n      <th>ec_count</th>\n      <th>anzsic06_mean</th>\n      <th>ec_count</th>\n    </tr>\n  </thead>\n  <tbody>\n    <tr>\n      <th>0</th>\n      <td>A</td>\n      <td>A100100</td>\n      <td>2000</td>\n      <td>96</td>\n      <td>85</td>\n      <td>196.301884</td>\n      <td>85</td>\n    </tr>\n    <tr>\n      <th>1</th>\n      <td>A</td>\n      <td>A100200</td>\n      <td>2000</td>\n      <td>198</td>\n      <td>85</td>\n      <td>196.301884</td>\n      <td>85</td>\n    </tr>\n    <tr>\n      <th>2</th>\n      <td>A</td>\n      <td>A100300</td>\n      <td>2000</td>\n      <td>42</td>\n      <td>25</td>\n      <td>196.301884</td>\n      <td>25</td>\n    </tr>\n    <tr>\n      <th>3</th>\n      <td>A</td>\n      <td>A100400</td>\n      <td>2000</td>\n      <td>66</td>\n      <td>40</td>\n      <td>196.301884</td>\n      <td>40</td>\n    </tr>\n    <tr>\n      <th>4</th>\n      <td>A</td>\n      <td>A100500</td>\n      <td>2000</td>\n      <td>63</td>\n      <td>40</td>\n      <td>196.301884</td>\n      <td>40</td>\n    </tr>\n  </tbody>\n</table>\n</div>"
     },
     "execution_count": 42,
     "metadata": {},
     "output_type": "execute_result"
    }
   ],
   "source": [
    "data_concat.head()"
   ],
   "metadata": {
    "collapsed": false,
    "pycharm": {
     "name": "#%%\n"
    }
   }
  },
  {
   "cell_type": "code",
   "execution_count": null,
   "outputs": [],
   "source": [],
   "metadata": {
    "collapsed": false,
    "pycharm": {
     "name": "#%%\n"
    }
   }
  }
 ],
 "metadata": {
  "kernelspec": {
   "display_name": "Python 3",
   "language": "python",
   "name": "python3"
  },
  "language_info": {
   "codemirror_mode": {
    "name": "ipython",
    "version": 2
   },
   "file_extension": ".py",
   "mimetype": "text/x-python",
   "name": "python",
   "nbconvert_exporter": "python",
   "pygments_lexer": "ipython2",
   "version": "2.7.6"
  }
 },
 "nbformat": 4,
 "nbformat_minor": 0
}