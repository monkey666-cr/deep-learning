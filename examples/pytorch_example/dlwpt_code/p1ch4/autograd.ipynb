{
 "cells": [
  {
   "cell_type": "code",
   "execution_count": 12,
   "outputs": [],
   "source": [
    "import torch"
   ],
   "metadata": {
    "collapsed": false,
    "pycharm": {
     "name": "#%%\n"
    }
   }
  },
  {
   "cell_type": "code",
   "execution_count": 13,
   "outputs": [],
   "source": [
    "x = torch.tensor(1, requires_grad=True, dtype=torch.float32)"
   ],
   "metadata": {
    "collapsed": false,
    "pycharm": {
     "name": "#%%\n"
    }
   }
  },
  {
   "cell_type": "code",
   "execution_count": 14,
   "outputs": [],
   "source": [
    "z = x ** 2"
   ],
   "metadata": {
    "collapsed": false,
    "pycharm": {
     "name": "#%%\n"
    }
   }
  },
  {
   "cell_type": "code",
   "execution_count": 15,
   "outputs": [],
   "source": [
    "y = torch.tensor(2, requires_grad=True, dtype=torch.float32)"
   ],
   "metadata": {
    "collapsed": false,
    "pycharm": {
     "name": "#%%\n"
    }
   }
  },
  {
   "cell_type": "code",
   "execution_count": 16,
   "outputs": [],
   "source": [
    "sigma = torch.sigmoid(z)"
   ],
   "metadata": {
    "collapsed": false,
    "pycharm": {
     "name": "#%%\n"
    }
   }
  },
  {
   "cell_type": "code",
   "execution_count": 17,
   "outputs": [],
   "source": [
    "loss = -(y * torch.log(sigma) + (1 - y) * torch.log(1 - sigma))"
   ],
   "metadata": {
    "collapsed": false,
    "pycharm": {
     "name": "#%%\n"
    }
   }
  },
  {
   "cell_type": "code",
   "execution_count": 18,
   "outputs": [
    {
     "data": {
      "text/plain": "(tensor(-1.0000),)"
     },
     "execution_count": 18,
     "metadata": {},
     "output_type": "execute_result"
    }
   ],
   "source": [
    "torch.autograd.grad(loss, y)"
   ],
   "metadata": {
    "collapsed": false,
    "pycharm": {
     "name": "#%%\n"
    }
   }
  },
  {
   "cell_type": "markdown",
   "source": [
    "3 分类， 500个样本，20个特征，共3层，第一层13个神经元，第二层8个神经元\n",
    "\n",
    "第一层激活函数"
   ],
   "metadata": {
    "collapsed": false,
    "pycharm": {
     "name": "#%% md\n"
    }
   }
  },
  {
   "cell_type": "code",
   "execution_count": 19,
   "outputs": [],
   "source": [
    "import torch\n",
    "import torch.nn as nn\n",
    "from torch.nn import functional as F  # noqa"
   ],
   "metadata": {
    "collapsed": false,
    "pycharm": {
     "name": "#%%\n"
    }
   }
  },
  {
   "cell_type": "code",
   "execution_count": 23,
   "outputs": [],
   "source": [
    "# 确定数据\n",
    "torch.manual_seed(420)\n",
    "X = torch.rand((500, 20), dtype=torch.float32)\n",
    "y = torch.randint(low=0, high=3, size=(500,), dtype=torch.float32)\n",
    "\n",
    "input_ = X.shape[1]\n",
    "output_ = len(y.unique())"
   ],
   "metadata": {
    "collapsed": false,
    "pycharm": {
     "name": "#%%\n"
    }
   }
  },
  {
   "cell_type": "code",
   "execution_count": 24,
   "outputs": [],
   "source": [
    "# 定义神经网络的架构\n",
    "class Model(nn.Module):\n",
    "    def __init__(self, in_features=40, out_features=2):\n",
    "        super(Model, self).__init__()\n",
    "        self.linear1 = nn.Linear(in_features, 13, bias=False)\n",
    "        self.linear2 = nn.Linear(13, 8, bias=False)\n",
    "        self.output = nn.Linear(8, out_features, bias=True)\n",
    "\n",
    "    def forward(self, x):  # noqa\n",
    "        sigma1 = torch.relu(self.linear1(x))\n",
    "        sigma2 = torch.sigmoid(self.linear2(sigma1))\n",
    "        z_hat = self.output(sigma2)\n",
    "        return z_hat"
   ],
   "metadata": {
    "collapsed": false,
    "pycharm": {
     "name": "#%%\n"
    }
   }
  },
  {
   "cell_type": "code",
   "execution_count": 40,
   "outputs": [],
   "source": [
    "torch.manual_seed(420)\n",
    "net = Model(in_features=input_, out_features=output_)"
   ],
   "metadata": {
    "collapsed": false,
    "pycharm": {
     "name": "#%%\n"
    }
   }
  },
  {
   "cell_type": "code",
   "execution_count": 41,
   "outputs": [],
   "source": [
    "z_hat = net(X)"
   ],
   "metadata": {
    "collapsed": false,
    "pycharm": {
     "name": "#%%\n"
    }
   }
  },
  {
   "cell_type": "code",
   "execution_count": 42,
   "outputs": [],
   "source": [
    "# 定义损失函数\n",
    "criterion = nn.CrossEntropyLoss()"
   ],
   "metadata": {
    "collapsed": false,
    "pycharm": {
     "name": "#%%\n"
    }
   }
  },
  {
   "cell_type": "code",
   "execution_count": 43,
   "outputs": [],
   "source": [
    "loss = criterion(z_hat, y.long())"
   ],
   "metadata": {
    "collapsed": false,
    "pycharm": {
     "name": "#%%\n"
    }
   }
  },
  {
   "cell_type": "code",
   "execution_count": 44,
   "outputs": [
    {
     "data": {
      "text/plain": "tensor(1.1535, grad_fn=<NllLossBackward0>)"
     },
     "execution_count": 44,
     "metadata": {},
     "output_type": "execute_result"
    }
   ],
   "source": [
    "loss"
   ],
   "metadata": {
    "collapsed": false,
    "pycharm": {
     "name": "#%%\n"
    }
   }
  },
  {
   "cell_type": "code",
   "execution_count": 45,
   "outputs": [],
   "source": [
    "net.linear1.weight.grad"
   ],
   "metadata": {
    "collapsed": false,
    "pycharm": {
     "name": "#%%\n"
    }
   }
  },
  {
   "cell_type": "code",
   "execution_count": 46,
   "outputs": [],
   "source": [
    "loss.backward(retain_graph=True)"
   ],
   "metadata": {
    "collapsed": false,
    "pycharm": {
     "name": "#%%\n"
    }
   }
  },
  {
   "cell_type": "code",
   "execution_count": 51,
   "outputs": [
    {
     "data": {
      "text/plain": "tensor([[ 6.7853e-05,  1.6769e-05,  8.2218e-05,  8.6626e-06,  2.9274e-05,\n          1.3096e-05,  7.4615e-05,  5.7929e-05,  2.1115e-05,  9.5455e-06,\n          1.7735e-05,  3.3999e-05,  2.0624e-05,  7.2824e-05,  2.4402e-05,\n          1.4567e-05,  2.9130e-05,  9.8809e-07,  2.1668e-05,  1.9144e-05],\n        [-1.4079e-03, -1.1643e-03, -2.1543e-05, -1.5917e-03, -8.0331e-04,\n          2.2502e-04, -5.5614e-04, -8.5695e-04,  1.4488e-04, -1.0388e-03,\n         -2.5886e-04, -1.0049e-03,  1.5713e-06, -8.8432e-04,  5.0492e-04,\n         -2.5728e-04, -4.0811e-05, -7.0183e-04, -1.0928e-03, -1.1360e-03],\n        [-2.6668e-03, -2.0269e-03, -4.4803e-03, -2.8288e-03, -3.5619e-03,\n         -4.9750e-03, -3.9394e-03, -2.8993e-03, -5.7994e-03, -3.3848e-03,\n         -4.7337e-03, -1.5833e-03, -3.8668e-03, -3.6325e-03, -5.4817e-03,\n         -2.1101e-03, -3.7201e-03, -5.2542e-03, -3.2303e-03, -3.5716e-03],\n        [-7.3951e-05, -1.6441e-04, -2.5073e-05, -3.8164e-04, -1.2576e-04,\n         -3.2599e-04, -2.4892e-04, -4.2654e-04, -2.1036e-04, -2.7685e-04,\n         -2.1122e-04, -1.1404e-04, -1.4221e-04, -1.1630e-04,  9.6221e-06,\n         -3.9815e-04, -1.4734e-04, -3.0874e-04, -4.0994e-04, -4.0007e-04],\n        [-2.8029e-03, -2.7151e-03, -1.3637e-03, -2.6359e-03, -2.3022e-03,\n         -1.8473e-03, -1.8454e-03, -3.7757e-03, -1.3521e-03, -4.0606e-03,\n         -2.4161e-03, -2.7417e-03, -8.2311e-04, -1.4086e-03, -9.1524e-04,\n         -2.7660e-03, -2.1162e-03, -2.2392e-03, -2.8803e-03, -2.4563e-03],\n        [ 8.5744e-05,  3.7503e-05,  6.1722e-05,  7.4386e-05,  8.6997e-05,\n          8.2777e-05,  6.0159e-05,  1.2026e-04,  3.7737e-05,  1.7068e-05,\n          1.5462e-04,  1.2737e-04,  9.6832e-05,  1.1508e-04,  1.4979e-04,\n          6.3984e-05,  6.9473e-05,  9.1724e-05,  6.2160e-05,  1.6156e-04],\n        [ 6.7030e-04,  2.3743e-04, -1.1418e-03,  6.3999e-04,  3.2782e-04,\n         -9.6182e-05,  1.2335e-04,  5.6402e-04, -1.6706e-03,  1.0951e-03,\n         -3.2078e-04,  9.6572e-04, -2.6203e-04, -1.4501e-04, -1.6718e-03,\n          1.0355e-03, -2.0251e-04, -7.1294e-04,  4.2246e-04,  1.1000e-03],\n        [ 4.0210e-03,  3.1698e-03,  4.4673e-03,  3.1281e-03,  3.8823e-03,\n          4.8186e-03,  4.1344e-03,  3.0677e-03,  6.2616e-03,  2.3091e-03,\n          4.3238e-03,  2.8649e-03,  3.9132e-03,  3.8103e-03,  6.4490e-03,\n          1.8809e-03,  4.2520e-03,  5.5387e-03,  3.9705e-03,  2.9013e-03],\n        [-1.1677e-03, -1.1758e-03, -2.7136e-04, -9.2425e-04, -1.6308e-03,\n         -1.2586e-03, -9.3332e-04, -1.6322e-03,  3.3955e-04, -2.0698e-03,\n         -1.0298e-03, -1.6606e-03, -1.7562e-04, -7.9541e-04,  1.2587e-04,\n         -1.8551e-03, -1.0206e-03, -6.6853e-04, -1.3204e-03, -1.7168e-03],\n        [ 4.9807e-04,  6.3993e-04,  2.5589e-04,  5.9082e-04,  4.5117e-04,\n          3.9026e-04,  2.7878e-04,  5.0223e-04,  1.3777e-04,  6.4986e-04,\n          3.4064e-04,  2.6675e-04,  3.5874e-04,  2.4849e-04,  1.2671e-04,\n          6.8884e-04,  3.3010e-04,  4.6744e-04,  4.0561e-04,  5.2946e-04],\n        [ 2.9062e-04,  2.6760e-04,  2.4728e-04,  1.9195e-04, -4.8218e-05,\n          1.9508e-04, -7.2316e-05,  3.5106e-05,  2.3937e-04, -4.3485e-05,\n          2.0619e-04,  5.2428e-05,  5.8166e-05,  1.0394e-05,  1.5755e-04,\n          1.2180e-04,  3.6743e-04,  3.6567e-04,  2.6377e-04,  2.0617e-04],\n        [-9.6289e-04, -1.5356e-03, -1.6509e-03, -1.2899e-03, -1.7439e-03,\n         -1.9611e-03, -1.7190e-03, -1.5361e-03, -2.6832e-03, -1.1630e-03,\n         -1.4440e-03, -1.0130e-03, -1.7144e-03, -1.4343e-03, -2.1892e-03,\n         -1.1878e-03, -1.5952e-03, -2.2948e-03, -1.2624e-03, -1.0832e-03],\n        [ 6.9488e-05,  1.0573e-04,  8.6926e-06,  8.8533e-05,  2.8721e-04,\n          1.7321e-04,  1.3591e-04,  2.9885e-04,  8.4510e-05,  3.0026e-04,\n          1.5140e-04,  1.2706e-04,  8.5590e-05,  3.6681e-05,  2.8060e-04,\n          4.1863e-05,  1.0242e-04,  2.6538e-04,  7.9895e-05,  1.2547e-04]])"
     },
     "execution_count": 51,
     "metadata": {},
     "output_type": "execute_result"
    }
   ],
   "source": [
    "net.linear1.weight.grad"
   ],
   "metadata": {
    "collapsed": false,
    "pycharm": {
     "name": "#%%\n"
    }
   }
  },
  {
   "cell_type": "code",
   "execution_count": 50,
   "outputs": [],
   "source": [
    "loss.backward(retain_graph=True)"
   ],
   "metadata": {
    "collapsed": false,
    "pycharm": {
     "name": "#%%\n"
    }
   }
  },
  {
   "cell_type": "code",
   "execution_count": null,
   "outputs": [],
   "source": [],
   "metadata": {
    "collapsed": false,
    "pycharm": {
     "name": "#%%\n"
    }
   }
  }
 ],
 "metadata": {
  "kernelspec": {
   "display_name": "Python 3",
   "language": "python",
   "name": "python3"
  },
  "language_info": {
   "codemirror_mode": {
    "name": "ipython",
    "version": 2
   },
   "file_extension": ".py",
   "mimetype": "text/x-python",
   "name": "python",
   "nbconvert_exporter": "python",
   "pygments_lexer": "ipython2",
   "version": "2.7.6"
  }
 },
 "nbformat": 4,
 "nbformat_minor": 0
}