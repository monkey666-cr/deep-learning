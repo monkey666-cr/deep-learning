{
 "cells": [
  {
   "cell_type": "markdown",
   "metadata": {
    "collapsed": true,
    "pycharm": {
     "name": "#%% md\n"
    }
   },
   "source": [
    "# SST-2 Binary text classification with XLM-RoBERTa model"
   ]
  },
  {
   "cell_type": "code",
   "execution_count": 1,
   "outputs": [],
   "source": [
    "import torch\n",
    "import torch.nn as nn\n",
    "\n",
    "DEVICE = torch.device(\"cuda\" if torch.cuda.is_available() else \"cpu\")"
   ],
   "metadata": {
    "collapsed": false,
    "pycharm": {
     "name": "#%%\n"
    }
   }
  },
  {
   "cell_type": "markdown",
   "source": [
    "## Data Transformation"
   ],
   "metadata": {
    "collapsed": false,
    "pycharm": {
     "name": "#%% md\n"
    }
   }
  },
  {
   "cell_type": "code",
   "execution_count": 2,
   "outputs": [
    {
     "name": "stderr",
     "output_type": "stream",
     "text": [
      "100%|██████████| 5.07M/5.07M [00:00<00:00, 6.97MB/s]\n",
      "Downloading: \"https://download.pytorch.org/models/text/xlmr.vocab.pt\" to C:\\Users\\theRun/.cache\\torch\\hub\\checkpoints\\xlmr.vocab.pt\n"
     ]
    },
    {
     "data": {
      "text/plain": "  0%|          | 0.00/4.85M [00:00<?, ?B/s]",
      "application/vnd.jupyter.widget-view+json": {
       "version_major": 2,
       "version_minor": 0,
       "model_id": "db364e623c1149f38dbf2d08e84fcdc6"
      }
     },
     "metadata": {},
     "output_type": "display_data"
    }
   ],
   "source": [
    "import torchtext.transforms as T\n",
    "from torch.hub import load_state_dict_from_url\n",
    "\n",
    "padding_idx = 1\n",
    "bos_idx = 0\n",
    "eos_idx = 2\n",
    "max_seq_len = 256\n",
    "xlmr_vocab_path = r\"https://download.pytorch.org/models/text/xlmr.vocab.pt\"\n",
    "xlmr_spm_model_path = r\"https://download.pytorch.org/models/text/xlmr.sentencepiece.bpe.model\"\n",
    "\n",
    "text_transform = T.Sequential(\n",
    "    T.SentencePieceTokenizer(xlmr_spm_model_path),\n",
    "    T.VocabTransform(load_state_dict_from_url(xlmr_vocab_path)),\n",
    "    T.Truncate(max_seq_len - 2),\n",
    "    T.AddToken(token=bos_idx, begin=True),\n",
    "    T.AddToken(token=eos_idx, begin=False)\n",
    ")"
   ],
   "metadata": {
    "collapsed": false,
    "pycharm": {
     "name": "#%%\n"
    }
   }
  },
  {
   "cell_type": "markdown",
   "source": [
    "## Dataset"
   ],
   "metadata": {
    "collapsed": false,
    "pycharm": {
     "name": "#%% md\n"
    }
   }
  },
  {
   "cell_type": "code",
   "execution_count": 10,
   "outputs": [
    {
     "name": "stderr",
     "output_type": "stream",
     "text": [
      "e:\\.virtualenvs\\nlp-ei9pq230\\lib\\site-packages\\torch\\utils\\data\\datapipes\\utils\\common.py:24: UserWarning: Lambda function is not supported for pickle, please use regular python function or functools.partial instead.\n",
      "  warnings.warn(\n",
      "e:\\.virtualenvs\\nlp-ei9pq230\\lib\\site-packages\\torch\\utils\\data\\datapipes\\iter\\selecting.py:54: UserWarning: Lambda function is not supported for pickle, please use regular python function or functools.partial instead.\n",
      "  warnings.warn(\"Lambda function is not supported for pickle, please use \"\n"
     ]
    }
   ],
   "source": [
    "from torchtext.datasets import SST2\n",
    "from torch.utils.data import DataLoader\n",
    "\n",
    "batch_size = 16\n",
    "\n",
    "train_datapipe = SST2(split=\"train\")\n",
    "dev_datapipe = SST2(split=\"dev\")\n",
    "\n",
    "train_datapipe = train_datapipe.map(lambda x: (text_transform(x[0]), x[1]))\n",
    "train_datapipe = train_datapipe.batch(batch_size)\n",
    "train_datapipe = train_datapipe.rows2columnar([\"token_ids\", \"target\"])\n",
    "train_dataloader = DataLoader(train_datapipe, batch_size=None)\n",
    "\n",
    "dev_datapipe = dev_datapipe.map(lambda x: (text_transform(x[0]), x[1]))\n",
    "dev_datapipe = dev_datapipe.batch(batch_size)\n",
    "dev_datapipe = dev_datapipe.rows2columnar([\"token_ids\", \"target\"])\n",
    "dev_dataloader = DataLoader(dev_datapipe, batch_size=None)"
   ],
   "metadata": {
    "collapsed": false,
    "pycharm": {
     "name": "#%%\n"
    }
   }
  },
  {
   "cell_type": "markdown",
   "source": [
    "## Model Preparation"
   ],
   "metadata": {
    "collapsed": false,
    "pycharm": {
     "name": "#%% md\n"
    }
   }
  },
  {
   "cell_type": "code",
   "execution_count": 5,
   "outputs": [
    {
     "name": "stderr",
     "output_type": "stream",
     "text": [
      "Downloading: \"https://download.pytorch.org/models/text/xlmr.base.encoder.pt\" to C:\\Users\\theRun/.cache\\torch\\hub\\checkpoints\\xlmr.base.encoder.pt\n"
     ]
    },
    {
     "data": {
      "text/plain": "  0%|          | 0.00/1.03G [00:00<?, ?B/s]",
      "application/vnd.jupyter.widget-view+json": {
       "version_major": 2,
       "version_minor": 0,
       "model_id": "9ffd7c5e5eaa4df09fc5ff1a0d4d92ef"
      }
     },
     "metadata": {},
     "output_type": "display_data"
    },
    {
     "data": {
      "text/plain": "RobertaModel(\n  (encoder): RobertaEncoder(\n    (transformer): TransformerEncoder(\n      (token_embedding): Embedding(250002, 768, padding_idx=1)\n      (layers): ModuleList(\n        (0): TransformerEncoderLayer(\n          (dropout): Dropout(p=0.1, inplace=False)\n          (attention): MultiheadSelfAttention(\n            (dropout): Dropout(p=0.1, inplace=False)\n            (input_projection): Linear(in_features=768, out_features=2304, bias=True)\n            (output_projection): Linear(in_features=768, out_features=768, bias=True)\n          )\n          (residual_mlp): ResidualMLP(\n            (mlp): Sequential(\n              (0): Linear(in_features=768, out_features=3072, bias=True)\n              (1): GELU()\n              (2): Dropout(p=0.1, inplace=False)\n              (3): Linear(in_features=3072, out_features=768, bias=True)\n              (4): Dropout(p=0.1, inplace=False)\n            )\n          )\n          (attention_layer_norm): LayerNorm((768,), eps=1e-05, elementwise_affine=True)\n          (final_layer_norm): LayerNorm((768,), eps=1e-05, elementwise_affine=True)\n        )\n        (1): TransformerEncoderLayer(\n          (dropout): Dropout(p=0.1, inplace=False)\n          (attention): MultiheadSelfAttention(\n            (dropout): Dropout(p=0.1, inplace=False)\n            (input_projection): Linear(in_features=768, out_features=2304, bias=True)\n            (output_projection): Linear(in_features=768, out_features=768, bias=True)\n          )\n          (residual_mlp): ResidualMLP(\n            (mlp): Sequential(\n              (0): Linear(in_features=768, out_features=3072, bias=True)\n              (1): GELU()\n              (2): Dropout(p=0.1, inplace=False)\n              (3): Linear(in_features=3072, out_features=768, bias=True)\n              (4): Dropout(p=0.1, inplace=False)\n            )\n          )\n          (attention_layer_norm): LayerNorm((768,), eps=1e-05, elementwise_affine=True)\n          (final_layer_norm): LayerNorm((768,), eps=1e-05, elementwise_affine=True)\n        )\n        (2): TransformerEncoderLayer(\n          (dropout): Dropout(p=0.1, inplace=False)\n          (attention): MultiheadSelfAttention(\n            (dropout): Dropout(p=0.1, inplace=False)\n            (input_projection): Linear(in_features=768, out_features=2304, bias=True)\n            (output_projection): Linear(in_features=768, out_features=768, bias=True)\n          )\n          (residual_mlp): ResidualMLP(\n            (mlp): Sequential(\n              (0): Linear(in_features=768, out_features=3072, bias=True)\n              (1): GELU()\n              (2): Dropout(p=0.1, inplace=False)\n              (3): Linear(in_features=3072, out_features=768, bias=True)\n              (4): Dropout(p=0.1, inplace=False)\n            )\n          )\n          (attention_layer_norm): LayerNorm((768,), eps=1e-05, elementwise_affine=True)\n          (final_layer_norm): LayerNorm((768,), eps=1e-05, elementwise_affine=True)\n        )\n        (3): TransformerEncoderLayer(\n          (dropout): Dropout(p=0.1, inplace=False)\n          (attention): MultiheadSelfAttention(\n            (dropout): Dropout(p=0.1, inplace=False)\n            (input_projection): Linear(in_features=768, out_features=2304, bias=True)\n            (output_projection): Linear(in_features=768, out_features=768, bias=True)\n          )\n          (residual_mlp): ResidualMLP(\n            (mlp): Sequential(\n              (0): Linear(in_features=768, out_features=3072, bias=True)\n              (1): GELU()\n              (2): Dropout(p=0.1, inplace=False)\n              (3): Linear(in_features=3072, out_features=768, bias=True)\n              (4): Dropout(p=0.1, inplace=False)\n            )\n          )\n          (attention_layer_norm): LayerNorm((768,), eps=1e-05, elementwise_affine=True)\n          (final_layer_norm): LayerNorm((768,), eps=1e-05, elementwise_affine=True)\n        )\n        (4): TransformerEncoderLayer(\n          (dropout): Dropout(p=0.1, inplace=False)\n          (attention): MultiheadSelfAttention(\n            (dropout): Dropout(p=0.1, inplace=False)\n            (input_projection): Linear(in_features=768, out_features=2304, bias=True)\n            (output_projection): Linear(in_features=768, out_features=768, bias=True)\n          )\n          (residual_mlp): ResidualMLP(\n            (mlp): Sequential(\n              (0): Linear(in_features=768, out_features=3072, bias=True)\n              (1): GELU()\n              (2): Dropout(p=0.1, inplace=False)\n              (3): Linear(in_features=3072, out_features=768, bias=True)\n              (4): Dropout(p=0.1, inplace=False)\n            )\n          )\n          (attention_layer_norm): LayerNorm((768,), eps=1e-05, elementwise_affine=True)\n          (final_layer_norm): LayerNorm((768,), eps=1e-05, elementwise_affine=True)\n        )\n        (5): TransformerEncoderLayer(\n          (dropout): Dropout(p=0.1, inplace=False)\n          (attention): MultiheadSelfAttention(\n            (dropout): Dropout(p=0.1, inplace=False)\n            (input_projection): Linear(in_features=768, out_features=2304, bias=True)\n            (output_projection): Linear(in_features=768, out_features=768, bias=True)\n          )\n          (residual_mlp): ResidualMLP(\n            (mlp): Sequential(\n              (0): Linear(in_features=768, out_features=3072, bias=True)\n              (1): GELU()\n              (2): Dropout(p=0.1, inplace=False)\n              (3): Linear(in_features=3072, out_features=768, bias=True)\n              (4): Dropout(p=0.1, inplace=False)\n            )\n          )\n          (attention_layer_norm): LayerNorm((768,), eps=1e-05, elementwise_affine=True)\n          (final_layer_norm): LayerNorm((768,), eps=1e-05, elementwise_affine=True)\n        )\n        (6): TransformerEncoderLayer(\n          (dropout): Dropout(p=0.1, inplace=False)\n          (attention): MultiheadSelfAttention(\n            (dropout): Dropout(p=0.1, inplace=False)\n            (input_projection): Linear(in_features=768, out_features=2304, bias=True)\n            (output_projection): Linear(in_features=768, out_features=768, bias=True)\n          )\n          (residual_mlp): ResidualMLP(\n            (mlp): Sequential(\n              (0): Linear(in_features=768, out_features=3072, bias=True)\n              (1): GELU()\n              (2): Dropout(p=0.1, inplace=False)\n              (3): Linear(in_features=3072, out_features=768, bias=True)\n              (4): Dropout(p=0.1, inplace=False)\n            )\n          )\n          (attention_layer_norm): LayerNorm((768,), eps=1e-05, elementwise_affine=True)\n          (final_layer_norm): LayerNorm((768,), eps=1e-05, elementwise_affine=True)\n        )\n        (7): TransformerEncoderLayer(\n          (dropout): Dropout(p=0.1, inplace=False)\n          (attention): MultiheadSelfAttention(\n            (dropout): Dropout(p=0.1, inplace=False)\n            (input_projection): Linear(in_features=768, out_features=2304, bias=True)\n            (output_projection): Linear(in_features=768, out_features=768, bias=True)\n          )\n          (residual_mlp): ResidualMLP(\n            (mlp): Sequential(\n              (0): Linear(in_features=768, out_features=3072, bias=True)\n              (1): GELU()\n              (2): Dropout(p=0.1, inplace=False)\n              (3): Linear(in_features=3072, out_features=768, bias=True)\n              (4): Dropout(p=0.1, inplace=False)\n            )\n          )\n          (attention_layer_norm): LayerNorm((768,), eps=1e-05, elementwise_affine=True)\n          (final_layer_norm): LayerNorm((768,), eps=1e-05, elementwise_affine=True)\n        )\n        (8): TransformerEncoderLayer(\n          (dropout): Dropout(p=0.1, inplace=False)\n          (attention): MultiheadSelfAttention(\n            (dropout): Dropout(p=0.1, inplace=False)\n            (input_projection): Linear(in_features=768, out_features=2304, bias=True)\n            (output_projection): Linear(in_features=768, out_features=768, bias=True)\n          )\n          (residual_mlp): ResidualMLP(\n            (mlp): Sequential(\n              (0): Linear(in_features=768, out_features=3072, bias=True)\n              (1): GELU()\n              (2): Dropout(p=0.1, inplace=False)\n              (3): Linear(in_features=3072, out_features=768, bias=True)\n              (4): Dropout(p=0.1, inplace=False)\n            )\n          )\n          (attention_layer_norm): LayerNorm((768,), eps=1e-05, elementwise_affine=True)\n          (final_layer_norm): LayerNorm((768,), eps=1e-05, elementwise_affine=True)\n        )\n        (9): TransformerEncoderLayer(\n          (dropout): Dropout(p=0.1, inplace=False)\n          (attention): MultiheadSelfAttention(\n            (dropout): Dropout(p=0.1, inplace=False)\n            (input_projection): Linear(in_features=768, out_features=2304, bias=True)\n            (output_projection): Linear(in_features=768, out_features=768, bias=True)\n          )\n          (residual_mlp): ResidualMLP(\n            (mlp): Sequential(\n              (0): Linear(in_features=768, out_features=3072, bias=True)\n              (1): GELU()\n              (2): Dropout(p=0.1, inplace=False)\n              (3): Linear(in_features=3072, out_features=768, bias=True)\n              (4): Dropout(p=0.1, inplace=False)\n            )\n          )\n          (attention_layer_norm): LayerNorm((768,), eps=1e-05, elementwise_affine=True)\n          (final_layer_norm): LayerNorm((768,), eps=1e-05, elementwise_affine=True)\n        )\n        (10): TransformerEncoderLayer(\n          (dropout): Dropout(p=0.1, inplace=False)\n          (attention): MultiheadSelfAttention(\n            (dropout): Dropout(p=0.1, inplace=False)\n            (input_projection): Linear(in_features=768, out_features=2304, bias=True)\n            (output_projection): Linear(in_features=768, out_features=768, bias=True)\n          )\n          (residual_mlp): ResidualMLP(\n            (mlp): Sequential(\n              (0): Linear(in_features=768, out_features=3072, bias=True)\n              (1): GELU()\n              (2): Dropout(p=0.1, inplace=False)\n              (3): Linear(in_features=3072, out_features=768, bias=True)\n              (4): Dropout(p=0.1, inplace=False)\n            )\n          )\n          (attention_layer_norm): LayerNorm((768,), eps=1e-05, elementwise_affine=True)\n          (final_layer_norm): LayerNorm((768,), eps=1e-05, elementwise_affine=True)\n        )\n        (11): TransformerEncoderLayer(\n          (dropout): Dropout(p=0.1, inplace=False)\n          (attention): MultiheadSelfAttention(\n            (dropout): Dropout(p=0.1, inplace=False)\n            (input_projection): Linear(in_features=768, out_features=2304, bias=True)\n            (output_projection): Linear(in_features=768, out_features=768, bias=True)\n          )\n          (residual_mlp): ResidualMLP(\n            (mlp): Sequential(\n              (0): Linear(in_features=768, out_features=3072, bias=True)\n              (1): GELU()\n              (2): Dropout(p=0.1, inplace=False)\n              (3): Linear(in_features=3072, out_features=768, bias=True)\n              (4): Dropout(p=0.1, inplace=False)\n            )\n          )\n          (attention_layer_norm): LayerNorm((768,), eps=1e-05, elementwise_affine=True)\n          (final_layer_norm): LayerNorm((768,), eps=1e-05, elementwise_affine=True)\n        )\n      )\n      (positional_embedding): PositionalEmbedding(\n        (embedding): Embedding(514, 768, padding_idx=1)\n      )\n      (embedding_layer_norm): LayerNorm((768,), eps=1e-05, elementwise_affine=True)\n      (dropout): Dropout(p=0.1, inplace=False)\n    )\n  )\n  (head): RobertaClassificationHead(\n    (dense): Linear(in_features=768, out_features=768, bias=True)\n    (dropout): Dropout(p=0.1, inplace=False)\n    (out_proj): Linear(in_features=768, out_features=2, bias=True)\n    (activation_fn): ReLU()\n  )\n)"
     },
     "execution_count": 5,
     "metadata": {},
     "output_type": "execute_result"
    }
   ],
   "source": [
    "num_classes = 2\n",
    "input_dim  = 768\n",
    "\n",
    "from torchtext.models import RobertaClassificationHead, XLMR_BASE_ENCODER\n",
    "classifier_head = RobertaClassificationHead(num_classes=num_classes, input_dim=input_dim)\n",
    "model = XLMR_BASE_ENCODER.get_model(head=classifier_head)\n",
    "model.to(DEVICE)"
   ],
   "metadata": {
    "collapsed": false,
    "pycharm": {
     "name": "#%%\n"
    }
   }
  },
  {
   "cell_type": "markdown",
   "source": [
    "## Training methods"
   ],
   "metadata": {
    "collapsed": false,
    "pycharm": {
     "name": "#%% md\n"
    }
   }
  },
  {
   "cell_type": "code",
   "execution_count": 8,
   "outputs": [],
   "source": [
    "import torchtext.functional as F\n",
    "from torch.optim import AdamW\n",
    "\n",
    "learning_rate = 1e-5\n",
    "optim = AdamW(model.parameters(), lr=learning_rate)\n",
    "criteria = nn.CrossEntropyLoss()\n",
    "\n",
    "def train_step(input_, target):\n",
    "    output = model(input_)\n",
    "    loss = criteria(output, target)\n",
    "    optim.zero_grad()\n",
    "    loss.backward()\n",
    "    optim.step()\n",
    "\n",
    "def eval_step(input_, target):\n",
    "    output = model(input_)\n",
    "    loss = criteria(output, target).item()\n",
    "    return float(loss), (output.argmax(1) == target).type(torch.float).sum().item()\n",
    "\n",
    "def evaluate():\n",
    "    model.eval()\n",
    "    total_loss = 0\n",
    "    correct_predictions = 0\n",
    "    total_predictions = 0\n",
    "    counter = 0\n",
    "    with torch.no_grad():\n",
    "        for batch in dev_dataloader:\n",
    "            input_ = F.to_tensor(batch[\"token_ids\"], padding_value=padding_idx).to(DEVICE)\n",
    "            target = torch.tensor(batch[\"target\"]).to(DEVICE)\n",
    "            loss, predictions = eval_step(input_, target)\n",
    "            total_loss += loss\n",
    "            correct_predictions += predictions\n",
    "            total_predictions += len(target)\n",
    "            counter += 1\n",
    "    return total_loss / counter, correct_predictions / total_predictions"
   ],
   "metadata": {
    "collapsed": false,
    "pycharm": {
     "name": "#%%\n"
    }
   }
  },
  {
   "cell_type": "markdown",
   "source": [
    "## Train"
   ],
   "metadata": {
    "collapsed": false,
    "pycharm": {
     "name": "#%% md\n"
    }
   }
  },
  {
   "cell_type": "code",
   "execution_count": 11,
   "outputs": [
    {
     "name": "stdout",
     "output_type": "stream",
     "text": [
      "Epoch = [0], loss = [0.25478339956396007], accuracy = [0.9105504587155964]\n"
     ]
    }
   ],
   "source": [
    "num_epochs = 1\n",
    "\n",
    "for e in range(num_epochs):\n",
    "    for batch in train_dataloader:\n",
    "        input_ = F.to_tensor(batch[\"token_ids\"], padding_value=padding_idx).to(DEVICE)\n",
    "        target = torch.tensor(batch[\"target\"]).to(DEVICE)\n",
    "        train_step(input_, target)\n",
    "\n",
    "    loss, accuracy = evaluate()\n",
    "    print(\"Epoch = [{}], loss = [{}], accuracy = [{}]\".format(e, loss, accuracy))"
   ],
   "metadata": {
    "collapsed": false,
    "pycharm": {
     "name": "#%%\n"
    }
   }
  },
  {
   "cell_type": "code",
   "execution_count": null,
   "outputs": [],
   "source": [],
   "metadata": {
    "collapsed": false,
    "pycharm": {
     "name": "#%%\n"
    }
   }
  }
 ],
 "metadata": {
  "kernelspec": {
   "display_name": "Python 3",
   "language": "python",
   "name": "python3"
  },
  "language_info": {
   "codemirror_mode": {
    "name": "ipython",
    "version": 2
   },
   "file_extension": ".py",
   "mimetype": "text/x-python",
   "name": "python",
   "nbconvert_exporter": "python",
   "pygments_lexer": "ipython2",
   "version": "2.7.6"
  }
 },
 "nbformat": 4,
 "nbformat_minor": 0
}