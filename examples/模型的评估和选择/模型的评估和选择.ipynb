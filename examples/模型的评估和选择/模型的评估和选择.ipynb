{
 "cells": [
  {
   "cell_type": "markdown",
   "source": [
    "# 模型的评估和选择\n",
    "\n",
    "---\n",
    "\n"
   ],
   "metadata": {
    "collapsed": false,
    "pycharm": {
     "name": "#%% md\n"
    }
   }
  },
  {
   "cell_type": "markdown",
   "source": [
    "- 对样本数据适当划分，使用训练集训练模型，用测试评估模型在实际使用时对新样本的判别能力。\n",
    "- 防止过拟合，提升模型的泛化能力"
   ],
   "metadata": {
    "collapsed": false,
    "pycharm": {
     "name": "#%% md\n"
    }
   }
  },
  {
   "cell_type": "markdown",
   "source": [
    "## 常用方法\n",
    "\n",
    "- 留出法（hold-out），对样本数据集适当划分，产生训练集（training set）和测试集（test set），训练集用户模型训练，测试集用于测试模型对新样本的判别能力。划分时可采用分层抽样（stratified sampling）保持训练集和测试集数据中数据分布的一致性\n",
    "- 自助法（bootstrapping），有放回的采样，有些样本会多次出现，另一些样本不出现。在样本数比较少时有效，另外，产生多个不同的训练集对集成学习有好处。\n",
    "- 交叉验证（cross validation），使用K折交叉验证能达到评估结果的稳定性"
   ],
   "metadata": {
    "collapsed": false,
    "pycharm": {
     "name": "#%% md\n"
    }
   }
  },
  {
   "cell_type": "markdown",
   "source": [
    "## 超参数和模型参数\n",
    "\n",
    "- 算法的参数，也叫“超参数”，数量少，通常人工设定候选\n",
    "- 模型的参数，数量可多大百亿，通过学习获得"
   ],
   "metadata": {
    "collapsed": false,
    "pycharm": {
     "name": "#%% md\n"
    }
   }
  },
  {
   "cell_type": "markdown",
   "source": [
    "## 调参\n",
    "\n",
    "- 参数调节是对算法参数的设定，参数配置好不好，对模型性能可能有显著差别\n",
    "- 调参和算法选择一样，使用同样的模型评估方法。对每种参数配置都训练出模型，选择最好的参数作为结果\n",
    "- 一组参数设定就是一个模型。假如有3个参数，每个参数有5个候选值，要考察125个模型\n"
   ],
   "metadata": {
    "collapsed": false,
    "pycharm": {
     "name": "#%% md\n"
    }
   }
  },
  {
   "cell_type": "markdown",
   "source": [
    "# PCA 算法步骤"
   ],
   "metadata": {
    "collapsed": false,
    "pycharm": {
     "name": "#%% md\n"
    }
   }
  },
  {
   "cell_type": "markdown",
   "source": [
    "设有m条n维数据。\n",
    "1）将原始数据按列组成n行m列矩阵X\n",
    "2）将X的每一行（代表一个属性字段）进行零均值化，即减去这一行的均值\n",
    "3）求出协方差矩阵\n",
    "4）求出协方差矩阵的特征值及对应的特征向量\n",
    "5）将特征向量按对应特征值大小从上到下按行排列成矩阵，取前k行组成矩阵P\n",
    "6）Y=PX即为降维到k维后的数据"
   ],
   "metadata": {
    "collapsed": false,
    "pycharm": {
     "name": "#%% md\n"
    }
   }
  },
  {
   "cell_type": "code",
   "execution_count": null,
   "outputs": [],
   "source": [],
   "metadata": {
    "collapsed": false,
    "pycharm": {
     "name": "#%%\n"
    }
   }
  }
 ],
 "metadata": {
  "kernelspec": {
   "display_name": "Python 3",
   "language": "python",
   "name": "python3"
  },
  "language_info": {
   "codemirror_mode": {
    "name": "ipython",
    "version": 2
   },
   "file_extension": ".py",
   "mimetype": "text/x-python",
   "name": "python",
   "nbconvert_exporter": "python",
   "pygments_lexer": "ipython2",
   "version": "2.7.6"
  }
 },
 "nbformat": 4,
 "nbformat_minor": 0
}